{
 "cells": [
  {
   "cell_type": "markdown",
   "metadata": {},
   "source": [
    "# Workshop Week 7 - Minhashing\n",
    "\n",
    "In this workshop you will practice with various exercises related to techniques to determine the similarity between large collections of documents. Read the lecture material related to week 7. Some of the exercises in this workshop were mentioned in the lecture.\n",
    "\n",
    "For this exercise you will use the documents in the NLTK Gutenberg corpus. The following code demonstrates how to read the documents of the Gutenberg corpus."
   ]
  },
  {
   "cell_type": "code",
   "execution_count": 1,
   "metadata": {},
   "outputs": [
    {
     "name": "stdout",
     "output_type": "stream",
     "text": [
      "[nltk_data] Downloading package gutenberg to\n",
      "[nltk_data]     /Users/caitlynnzuzartee/nltk_data...\n",
      "[nltk_data]   Unzipping corpora/gutenberg.zip.\n"
     ]
    },
    {
     "data": {
      "text/plain": [
       "True"
      ]
     },
     "execution_count": 1,
     "metadata": {},
     "output_type": "execute_result"
    }
   ],
   "source": [
    "import nltk\n",
    "nltk.download('gutenberg')"
   ]
  },
  {
   "cell_type": "code",
   "execution_count": 2,
   "metadata": {},
   "outputs": [
    {
     "data": {
      "text/plain": [
       "['austen-emma.txt',\n",
       " 'austen-persuasion.txt',\n",
       " 'austen-sense.txt',\n",
       " 'bible-kjv.txt',\n",
       " 'blake-poems.txt',\n",
       " 'bryant-stories.txt',\n",
       " 'burgess-busterbrown.txt',\n",
       " 'carroll-alice.txt',\n",
       " 'chesterton-ball.txt',\n",
       " 'chesterton-brown.txt',\n",
       " 'chesterton-thursday.txt',\n",
       " 'edgeworth-parents.txt',\n",
       " 'melville-moby_dick.txt',\n",
       " 'milton-paradise.txt',\n",
       " 'shakespeare-caesar.txt',\n",
       " 'shakespeare-hamlet.txt',\n",
       " 'shakespeare-macbeth.txt',\n",
       " 'whitman-leaves.txt']"
      ]
     },
     "execution_count": 2,
     "metadata": {},
     "output_type": "execute_result"
    }
   ],
   "source": [
    "from nltk.corpus import gutenberg\n",
    "gutenberg.fileids()"
   ]
  },
  {
   "cell_type": "markdown",
   "metadata": {},
   "source": [
    "The previous code lists all the documents of the Gutenberg corpus. You can see that it is a very small collection but it will suffice for the exercises in this workshop. The following code shows how you can read the text of one document."
   ]
  },
  {
   "cell_type": "code",
   "execution_count": 3,
   "metadata": {},
   "outputs": [
    {
     "data": {
      "text/plain": [
       "'[Emma by Jane Austen 1816]\\n\\nVOLUME I\\n\\nCHAPTER I\\n\\n\\nEmma Woodhouse, handsome, clever, and rich, with a comfortable home\\nand happy disposition, seemed to unite some of the best blessings\\nof existence; an'"
      ]
     },
     "execution_count": 3,
     "metadata": {},
     "output_type": "execute_result"
    }
   ],
   "source": [
    "emma = gutenberg.raw('austen-emma.txt')\n",
    "emma[:200]"
   ]
  },
  {
   "cell_type": "markdown",
   "metadata": {},
   "source": [
    "## Shingling"
   ]
  },
  {
   "cell_type": "markdown",
   "metadata": {},
   "source": [
    "The following code can be used to find the set of k-shingles for a document."
   ]
  },
  {
   "cell_type": "code",
   "execution_count": 4,
   "metadata": {
    "collapsed": true
   },
   "outputs": [],
   "source": [
    "def k_shingles(text, k):\n",
    "    return set(nltk.ngrams(text, k))"
   ]
  },
  {
   "cell_type": "code",
   "execution_count": 5,
   "metadata": {},
   "outputs": [
    {
     "data": {
      "text/plain": [
       "{('n', 'e', 's'),\n",
       " ('d', ' ', 'i'),\n",
       " ('x', 'p', 'l'),\n",
       " ('-', '-', 'l'),\n",
       " ('n', ' ', 'g'),\n",
       " ('\"', 'v', 'e'),\n",
       " ('j', 'o', 'b'),\n",
       " ('_', 'M', 'y'),\n",
       " (' ', '`', 'A'),\n",
       " ('-', 'h', 'i'),\n",
       " ('l', '-', 'd'),\n",
       " ('\\n', '&', 'c'),\n",
       " ('x', ' ', 'r'),\n",
       " (' ', 'b', 'u'),\n",
       " ('l', '\\n', 'm'),\n",
       " ('B', 'e', 'h'),\n",
       " ('?', ')', '-'),\n",
       " ('l', 'm', 'a'),\n",
       " ('-', 'r', 'o'),\n",
       " ('\\n', 'l', 'u'),\n",
       " ('\\n', 'b', 'l'),\n",
       " ('o', 'k', ';'),\n",
       " ('l', '-', 'u'),\n",
       " (\"'\", ' ', 'y'),\n",
       " ('l', 'e', 'i'),\n",
       " ('d', 'u', 's'),\n",
       " (' ', 'i', 'f'),\n",
       " ('n', 'g', 't'),\n",
       " ('b', 'b', 'y'),\n",
       " (',', '\\n', '('),\n",
       " ('f', 'e', 's'),\n",
       " ('\"', 'I', 'm'),\n",
       " ('\\n', '\\n', 'A'),\n",
       " ('m', 'a', '?'),\n",
       " ('u', ' ', 'g'),\n",
       " ('c', 'u', 'm'),\n",
       " ('d', ' ', 'C'),\n",
       " ('t', ':', '-'),\n",
       " ('l', 'l', ' '),\n",
       " ('f', 'y', ';'),\n",
       " ('e', '\\n', 'k'),\n",
       " ('e', 'g', '-'),\n",
       " ('d', '-', 'w'),\n",
       " ('e', 'a', '?'),\n",
       " ('\\n', 'A', 'r'),\n",
       " (\"'\", ' ', 'f'),\n",
       " (',', ' ', 'u'),\n",
       " ('l', 'n', 'e'),\n",
       " ('a', 'f', 'n'),\n",
       " ('R', ' ', 'X'),\n",
       " ('h', 'i', 'c'),\n",
       " ('y', '.', \"'\"),\n",
       " ('-', '\\n', 'o'),\n",
       " ('-', 'w', 'a'),\n",
       " ('e', 'n', '.'),\n",
       " (' ', 'i', 'l'),\n",
       " ('f', 'a', 'i'),\n",
       " ('y', '\\n', 'p'),\n",
       " ('o', '\\n', 'v'),\n",
       " (';', '\\n', 'm'),\n",
       " ('-', '\\n', 'L'),\n",
       " ('A', 'l', 't'),\n",
       " ('e', 'o', 'v'),\n",
       " ('r', '\\n', 'H'),\n",
       " ('d', ' ', 'A'),\n",
       " ('u', 'r', '.'),\n",
       " ('b', 's', 't'),\n",
       " ('y', 's', '-'),\n",
       " ('_', 'b', 'e'),\n",
       " ('e', 'n', 'v'),\n",
       " ('A', 'P', 'T'),\n",
       " ('n', 't', \"'\"),\n",
       " ('p', 'u', 'n'),\n",
       " ('f', 'u', 's'),\n",
       " ('j', 'u', 'm'),\n",
       " ('d', 'd', '.'),\n",
       " ('a', 'b', 'e'),\n",
       " ('l', ' ', 'k'),\n",
       " ('_', ' ', 'I'),\n",
       " ('-', 'P', 'e'),\n",
       " ('n', 'a', '\\n'),\n",
       " ('n', 'e', 'a'),\n",
       " ('v', 'e', 'a'),\n",
       " ('i', 'g', 'o'),\n",
       " ('n', ':', ' '),\n",
       " ('n', 'b', 'r'),\n",
       " ('n', '-', 'e'),\n",
       " ('r', 'm', 'u'),\n",
       " ('\\n', '`', 'D'),\n",
       " ('e', ' ', 'A'),\n",
       " ('s', 'f', 'o'),\n",
       " ('a', 'y', '.'),\n",
       " ('-', '-', 'p'),\n",
       " ('r', 'm', 'a'),\n",
       " ('l', 'a', ';'),\n",
       " ('l', 'y', '.'),\n",
       " ('s', 'y', '\\n'),\n",
       " ('e', 'c', 'a'),\n",
       " ('l', 'a', 'g'),\n",
       " ('h', '_', ' '),\n",
       " ('I', ',', ' '),\n",
       " ('\\n', '`', 'J'),\n",
       " ('.', ' ', 'J'),\n",
       " ('-', 'Y', 'o'),\n",
       " (' ', 'E', 'l'),\n",
       " ('\"', 'p', 'o'),\n",
       " ('c', 'y', 'i'),\n",
       " ('A', 'c', 'q'),\n",
       " ('t', ' ', 'H'),\n",
       " (' ', 'I', 'V'),\n",
       " ('k', '-', 'g'),\n",
       " ('a', 'r', 'r'),\n",
       " ('l', 'y', 'n'),\n",
       " ('h', '\\n', 'o'),\n",
       " ('\\n', 'H', 'a'),\n",
       " ('g', '\\n', 'b'),\n",
       " ('!', ' ', 'A'),\n",
       " (' ', 'M', 'r'),\n",
       " ('e', 's', '.'),\n",
       " ('f', '!', '-'),\n",
       " ('l', 'l', 'r'),\n",
       " ('g', ' ', '_'),\n",
       " ('a', 'm', 't'),\n",
       " ('t', ' ', 'Y'),\n",
       " (' ', '_', 'n'),\n",
       " ('\\n', 'd', 'o'),\n",
       " ('h', ' ', 'T'),\n",
       " (' ', 's', 'c'),\n",
       " ('\\n', '`', 'E'),\n",
       " ('g', 'u', 'r'),\n",
       " ('f', 'l', 'e'),\n",
       " (' ', 'h', 'i'),\n",
       " ('y', ')', ' '),\n",
       " (\"'\", '\\n', 'M'),\n",
       " ('\"', 'P', 'e'),\n",
       " ('v', 'e', ';'),\n",
       " ('l', 'o', 'v'),\n",
       " ('p', ' ', 'l'),\n",
       " ('t', '-', 'p'),\n",
       " ('b', 'l', 'i'),\n",
       " ('a', 's', '.'),\n",
       " ('e', 'y', ';'),\n",
       " ('d', 'i', 's'),\n",
       " (' ', 'w', 'r'),\n",
       " ('(', 'l', 'o'),\n",
       " ('I', 'I', 'I'),\n",
       " ('w', 'r', 'i'),\n",
       " ('e', 'x', 'p'),\n",
       " ('f', 'r', 'e'),\n",
       " ('o', 'n', 'a'),\n",
       " ('t', 'o', 'm'),\n",
       " ('E', 'i', 't'),\n",
       " ('l', 'y', '_'),\n",
       " ('-', '-', '`'),\n",
       " ('f', ' ', 'd'),\n",
       " ('d', ' ', 'g'),\n",
       " ('-', '(', 'i'),\n",
       " (',', '\"', ' '),\n",
       " ('e', ' ', 'M'),\n",
       " ('m', 'i', 'a'),\n",
       " ('l', 't', 'r'),\n",
       " ('o', 'p', 's'),\n",
       " ('v', 'e', 's'),\n",
       " ('W', 'a', 'r'),\n",
       " (' ', 'H', 'a'),\n",
       " ('!', ' ', 'i'),\n",
       " ('m', 'e', 'e'),\n",
       " ('h', 'e', '-'),\n",
       " ('_', 'C', 'h'),\n",
       " ('d', '.', ' '),\n",
       " ('i', 's', 'i'),\n",
       " ('P', 'e', 'm'),\n",
       " ('w', 'r', 'e'),\n",
       " ('r', ',', \"'\"),\n",
       " ('g', ' ', 'o'),\n",
       " ('M', 'e', 't'),\n",
       " ('r', 't', '_'),\n",
       " ('r', ' ', 'a'),\n",
       " ('n', '\\n', 'p'),\n",
       " ('y', '.', ' '),\n",
       " ('p', 'p', 'e'),\n",
       " ('!', '\\n', '\\n'),\n",
       " ('\\n', '\\n', 'I'),\n",
       " ('!', ')', '-'),\n",
       " ('u', 'd', 'l'),\n",
       " ('o', 'n', ';'),\n",
       " ('h', 't', 'e'),\n",
       " ('\"', 'H', 'e'),\n",
       " (';', ' ', 'i'),\n",
       " ('t', ' ', 'J'),\n",
       " ('o', 'u', 't'),\n",
       " ('f', ' ', 'H'),\n",
       " ('\\n', 'v', 'i'),\n",
       " ('f', 'o', 'g'),\n",
       " ('s', 'u', 'n'),\n",
       " (',', '\\n', 'M'),\n",
       " ('i', 'o', 'u'),\n",
       " ('n', 's', 'u'),\n",
       " ('p', '!', '-'),\n",
       " ('r', 'n', '?'),\n",
       " ('r', 'e', 'w'),\n",
       " ('f', 'l', 'y'),\n",
       " ('p', 'r', 'u'),\n",
       " (' ', 'y', 'i'),\n",
       " ('c', 'a', 'v'),\n",
       " ('-', 'L', 'a'),\n",
       " (' ', 'e', 'g'),\n",
       " ('e', '_', '\\n'),\n",
       " ('f', 't', ' '),\n",
       " ('d', 'm', 'i'),\n",
       " ('l', 'k', 'i'),\n",
       " ('l', 'a', 'm'),\n",
       " (':', '\\n', '\\n'),\n",
       " ('s', 'a', 'p'),\n",
       " ('\\n', 'o', 'r'),\n",
       " ('d', ',', '\\n'),\n",
       " ('e', 's', ';'),\n",
       " ('h', \"'\", 's'),\n",
       " ('\\n', 'e', 'd'),\n",
       " ('d', '\\n', 't'),\n",
       " ('m', 's', '.'),\n",
       " ('d', 'e', 'l'),\n",
       " ('l', 'l', '?'),\n",
       " ('-', 'E', 'l'),\n",
       " ('E', 'a', 'r'),\n",
       " ('n', 'g', ':'),\n",
       " ('p', 'e', 'w'),\n",
       " ('n', 'g', '!'),\n",
       " ('\\n', 'e', 'x'),\n",
       " ('I', ' ', 'y'),\n",
       " ('\"', 'r', 'e'),\n",
       " ('r', '\\n', 'r'),\n",
       " ('r', 'i', 'g'),\n",
       " ('a', 'i', 'm'),\n",
       " ('o', 'f', 'i'),\n",
       " ('-', 'C', 'e'),\n",
       " ('a', 'c', 'u'),\n",
       " ('o', ' ', 'k'),\n",
       " ('n', 't', ')'),\n",
       " ('-', 'c', 'a'),\n",
       " ('t', '-', 'j'),\n",
       " ('g', 'a', 'v'),\n",
       " ('i', 'n', 'o'),\n",
       " ('a', 'l', 'i'),\n",
       " ('n', 'd', 'e'),\n",
       " (' ', 'V', 'I'),\n",
       " ('i', 'n', ';'),\n",
       " ('-', 'l', 'u'),\n",
       " (' ', 'X', 'I'),\n",
       " ('s', 'u', 'e'),\n",
       " ('O', 'f', 't'),\n",
       " ('\\n', '_', 'T'),\n",
       " (' ', 'R', 'o'),\n",
       " ('e', 'd', 'd'),\n",
       " ('y', ':', ' '),\n",
       " ('e', 'e', ' '),\n",
       " ('w', ' ', 'j'),\n",
       " ('c', 't', 'e'),\n",
       " ('i', 'd', 'i'),\n",
       " ('\\n', '\"', 'Q'),\n",
       " ('i', 'd', '-'),\n",
       " ('I', '\\n', 'r'),\n",
       " ('n', 'o', 's'),\n",
       " ('a', 'w', \"'\"),\n",
       " (' ', 'e', 'r'),\n",
       " ('e', 's', '-'),\n",
       " ('e', 'n', ';'),\n",
       " ('t', 'a', 'c'),\n",
       " (',', '\\n', 'I'),\n",
       " ('d', 'y', ' '),\n",
       " ('N', 'o', \"'\"),\n",
       " (' ', '\"', 'I'),\n",
       " ('k', ' ', 't'),\n",
       " ('r', 'm', '!'),\n",
       " ('h', 't', \"'\"),\n",
       " ('D', 'e', 'l'),\n",
       " ('C', 'H', 'U'),\n",
       " ('r', 'e', 'c'),\n",
       " (' ', 'G', 'r'),\n",
       " ('-', '\\n', 'a'),\n",
       " ('o', 's', 'o'),\n",
       " ('u', 'l', ' '),\n",
       " ('b', 'e', ' '),\n",
       " ('u', ' ', 'l'),\n",
       " ('i', 's', 'l'),\n",
       " ('o', 'y', 's'),\n",
       " ('s', ' ', 'm'),\n",
       " ('\\n', 'o', \"'\"),\n",
       " ('a', ' ', 'B'),\n",
       " ('o', 'r', 'p'),\n",
       " ('g', 'l', 'i'),\n",
       " ('n', ' ', 'm'),\n",
       " ('x', 't', ','),\n",
       " ('T', 'h', 'r'),\n",
       " ('a', 't', '.'),\n",
       " ('x', 'c', 'h'),\n",
       " ('h', 'o', 'u'),\n",
       " ('t', 'u', 'i'),\n",
       " (' ', 'S', 'm'),\n",
       " ('c', 'k', 'l'),\n",
       " ('o', '\\n', 'e'),\n",
       " ('b', 'e', 's'),\n",
       " ('u', 'l', 's'),\n",
       " ('\\n', 'u', 'p'),\n",
       " ('h', '\\n', 'm'),\n",
       " ('r', '-', 's'),\n",
       " ('k', ' ', 'u'),\n",
       " ('e', 't', '?'),\n",
       " ('e', '\\n', 'b'),\n",
       " ('e', 'v', 'o'),\n",
       " ('A', 'm', 'b'),\n",
       " ('e', ' ', 'k'),\n",
       " ('r', 'l', ';'),\n",
       " ('m', 'o', 'r'),\n",
       " ('n', '!', '\"'),\n",
       " ('v', 'e', 't'),\n",
       " ('n', 'v', 'a'),\n",
       " (' ', '\"', 'i'),\n",
       " ('k', '\\n', 'a'),\n",
       " ('R', ' ', 'I'),\n",
       " (' ', 'S', 'i'),\n",
       " ('.', ' ', '2'),\n",
       " ('u', 't', 'r'),\n",
       " ('m', 'e', 'o'),\n",
       " ('h', '\\n', 'w'),\n",
       " ('o', 'y', 'f'),\n",
       " ('x', 'i', 't'),\n",
       " ('t', 's', '\\n'),\n",
       " ('w', 'b', 'e'),\n",
       " ('d', ' ', 'W'),\n",
       " ('l', 'i', 'm'),\n",
       " ('r', ' ', 'K'),\n",
       " ('e', 's', 'm'),\n",
       " ('e', 'y', '?'),\n",
       " ('n', 'r', 'i'),\n",
       " ('p', 'y', ','),\n",
       " ('d', ';', ' '),\n",
       " (' ', '\"', 'm'),\n",
       " ('d', 'a', 'p'),\n",
       " ('r', 'o', 't'),\n",
       " ('u', 'n', 'f'),\n",
       " ('t', 'a', 'y'),\n",
       " ('p', ',', ' '),\n",
       " (' ', 'w', 'a'),\n",
       " ('o', 's', 'u'),\n",
       " ('O', 'N', ' '),\n",
       " (' ', 'g', 'a'),\n",
       " ('o', 'n', 'l'),\n",
       " ('g', 'i', 'm'),\n",
       " ('g', 'g', 'l'),\n",
       " ('d', 'e', 'u'),\n",
       " ('u', 'x', 'u'),\n",
       " ('T', 'o', 'o'),\n",
       " (' ', 't', 'u'),\n",
       " (' ', 'y', 'e'),\n",
       " ('w', 'e', 'p'),\n",
       " ('-', '\\n', 'M'),\n",
       " ('_', 'M', 'i'),\n",
       " ('o', ' ', 'r'),\n",
       " ('b', 'b', 'e'),\n",
       " ('\"', ' ', 'A'),\n",
       " ('d', 'e', 'c'),\n",
       " ('r', 'e', 'a'),\n",
       " ('f', 'e', '!'),\n",
       " ('h', '.', ' '),\n",
       " (\"'\", ' ', 'w'),\n",
       " ('k', 'h', 'e'),\n",
       " ('o', 'o', 't'),\n",
       " ('p', 'e', 't'),\n",
       " ('i', 'm', 'i'),\n",
       " ('t', 'c', '.'),\n",
       " (' ', '`', 'N'),\n",
       " ('y', '-', 'h'),\n",
       " ('_', 'm', 'a'),\n",
       " ('!', ' ', \"'\"),\n",
       " ('n', 'v', 'e'),\n",
       " ('N', 'a', 'y'),\n",
       " ('n', 's', 'w'),\n",
       " ('s', 'p', 'i'),\n",
       " ('T', 'r', 'u'),\n",
       " ('t', ')', '\\n'),\n",
       " (' ', '_', 'i'),\n",
       " (' ', '(', 'n'),\n",
       " ('e', 's', 'e'),\n",
       " ('a', 'i', 'l'),\n",
       " ('e', 't', 'u'),\n",
       " ('\\n', 's', 'n'),\n",
       " ('n', 'e', '!'),\n",
       " ('n', 'e', ':'),\n",
       " ('n', 'u', 'e'),\n",
       " ('j', 'e', 'w'),\n",
       " ('g', '\\n', 'm'),\n",
       " ('d', 'o', ';'),\n",
       " ('i', 'm', 's'),\n",
       " ('w', 'o', '.'),\n",
       " ('e', 'p', 'r'),\n",
       " ('k', ' ', 'c'),\n",
       " ('s', 'a', 'y'),\n",
       " ('s', '\\n', 'T'),\n",
       " ('a', '-', 't'),\n",
       " ('e', 'i', 'n'),\n",
       " ('x', ' ', 'k'),\n",
       " ('x', '\\n', 'i'),\n",
       " ('n', ';', '-'),\n",
       " ('s', 'o', '\\n'),\n",
       " ('b', 's', ' '),\n",
       " ('_', 's', 'm'),\n",
       " ('-', 'w', 'r'),\n",
       " ('(', 'I', ' '),\n",
       " ('a', 'b', 'y'),\n",
       " ('l', 'y', ':'),\n",
       " ('n', 'a', 'n'),\n",
       " ('r', 't', ' '),\n",
       " ('W', 'I', 'N'),\n",
       " ('f', ' ', 't'),\n",
       " ('s', 'o', 'f'),\n",
       " ('(', 'M', 'r'),\n",
       " ('O', 'h', ' '),\n",
       " ('j', 'e', 'a'),\n",
       " ('o', 'w', ')'),\n",
       " ('s', 'i', 'v'),\n",
       " (' ', 'E', '.'),\n",
       " ('a', 't', 'u'),\n",
       " ('C', 'h', 'a'),\n",
       " ('!', '\\n', 'H'),\n",
       " ('\\n', '\\n', 'm'),\n",
       " (' ', '\"', 'l'),\n",
       " ('c', 'o', 'c'),\n",
       " ('c', 'o', 'r'),\n",
       " ('(', 'c', 'h'),\n",
       " (' ', 'a', ' '),\n",
       " ('m', 'a', 'r'),\n",
       " ('n', '_', ' '),\n",
       " (' ', 'l', 'a'),\n",
       " ('\\n', 't', 'w'),\n",
       " ('a', 'f', '\\n'),\n",
       " ('\"', '_', 'I'),\n",
       " ('-', 'c', 'l'),\n",
       " ('r', ':', ' '),\n",
       " ('m', 'l', 'e'),\n",
       " ('a', ' ', 'S'),\n",
       " ('e', 'd', '_'),\n",
       " ('f', '-', '-'),\n",
       " ('a', 's', '\\n'),\n",
       " ('u', 't', 't'),\n",
       " ('-', 'I', '\\n'),\n",
       " ('u', 'r', 'g'),\n",
       " ('\\n', 'a', 's'),\n",
       " ('g', 'h', 's'),\n",
       " (' ', 'O', 'b'),\n",
       " ('!', ' ', 'r'),\n",
       " ('e', 'r', 'f'),\n",
       " ('s', ' ', 'S'),\n",
       " ('n', '\\n', 'K'),\n",
       " ('s', 'm', 'o'),\n",
       " ('M', 'r', '.'),\n",
       " ('r', 't', 'l'),\n",
       " ('_', ' ', 'u'),\n",
       " ('W', 'e', 'l'),\n",
       " ('n', 'k', 'i'),\n",
       " ('w', 'n', '!'),\n",
       " ('n', ' ', 'I'),\n",
       " ('p', 'u', 'g'),\n",
       " ('F', 'I', 'N'),\n",
       " ('e', '\\n', 'c'),\n",
       " ('f', 't', 'y'),\n",
       " ('a', ' ', 'e'),\n",
       " ('-', '\"', 'M'),\n",
       " ('i', 'n', 'g'),\n",
       " ('o', 'y', 'a'),\n",
       " ('i', 'o', 'r'),\n",
       " ('w', ' ', 'F'),\n",
       " ('_', 'h', 'e'),\n",
       " ('g', ' ', 'q'),\n",
       " ('g', 'h', 'i'),\n",
       " ('\\n', 'D', 'o'),\n",
       " ('y', 'm', 'p'),\n",
       " ('a', '\\n', 't'),\n",
       " ('l', 'o', 'q'),\n",
       " ('4', 't', 'h'),\n",
       " ('-', 'A', 'h'),\n",
       " ('_', 'a', 'n'),\n",
       " ('i', 's', 'm'),\n",
       " ('-', 'a', 'y'),\n",
       " ('e', 'g', 'r'),\n",
       " ('y', 'e', '\\n'),\n",
       " ('r', 'l', ','),\n",
       " ('t', 'e', 'e'),\n",
       " ('u', ' ', 'a'),\n",
       " ('I', 'r', 'e'),\n",
       " (' ', 'A', 'd'),\n",
       " ('u', 'l', '-'),\n",
       " ('b', 'e', '-'),\n",
       " ('y', ' ', 'w'),\n",
       " ('s', 'm', 'a'),\n",
       " ('n', 'k', 'e'),\n",
       " ('u', 'n', 'b'),\n",
       " ('\\n', 'R', 'a'),\n",
       " ('t', ' ', 't'),\n",
       " ('?', '\\n', 'H'),\n",
       " ('t', 'h', 'n'),\n",
       " ('n', 'e', '?'),\n",
       " ('_', 'f', 'e'),\n",
       " ('w', '\\n', 'v'),\n",
       " ('c', 't', ' '),\n",
       " ('e', '\\n', 'K'),\n",
       " ('n', 'o', 'y'),\n",
       " ('f', 'a', 'x'),\n",
       " ('o', 'b', '\\n'),\n",
       " ('f', ' ', 'b'),\n",
       " ('k', '\\n', 'w'),\n",
       " ('i', 'r', 'f'),\n",
       " ('\\n', 'L', 'i'),\n",
       " ('m', ' ', 'u'),\n",
       " (',', ' ', 'R'),\n",
       " ('u', 'o', 'r'),\n",
       " ('v', 'y', ' '),\n",
       " ('o', 'y', ';'),\n",
       " (\"'\", '\\n', 'b'),\n",
       " ('F', 'a', 'n'),\n",
       " ('a', 's', 'p'),\n",
       " ('n', 'p', 'e'),\n",
       " ('\\n', '\"', 'r'),\n",
       " ('u', '!', ' '),\n",
       " (' ', 'E', 'm'),\n",
       " ('d', 'i', 'u'),\n",
       " ('p', 'r', 'a'),\n",
       " ('d', 'o', 'c'),\n",
       " ('i', 'u', 's'),\n",
       " ('f', 'o', 'u'),\n",
       " ('e', '?', '-'),\n",
       " ('\"', 'o', 'f'),\n",
       " ('d', 'h', 'u'),\n",
       " ('a', 'r', ':'),\n",
       " ('r', '\\n', 't'),\n",
       " ('.', '\\n', 'W'),\n",
       " (' ', 'T', 'r'),\n",
       " ('s', '\\n', 'B'),\n",
       " ('w', '-', 'w'),\n",
       " ('l', 'l', 's'),\n",
       " ('S', 'o', 'n'),\n",
       " ('A', ' ', 'h'),\n",
       " ('m', 'm', 'u'),\n",
       " (\"'\", ' ', 'c'),\n",
       " ('s', ' ', 'p'),\n",
       " ('c', 'o', 'd'),\n",
       " ('a', 't', 't'),\n",
       " ('d', '.', '\"'),\n",
       " ('a', 't', 'l'),\n",
       " ('\\n', 'E', 'v'),\n",
       " ('r', 'p', 'h'),\n",
       " ('_', 'b', 'l'),\n",
       " ('h', 'o', '_'),\n",
       " ('d', 'o', 'l'),\n",
       " ('s', 's', ' '),\n",
       " ('i', 'r', '-'),\n",
       " (' ', 'M', 'i'),\n",
       " ('l', 'l', 'i'),\n",
       " ('o', 'n', 'o'),\n",
       " ('d', 'e', 'm'),\n",
       " (' ', '_', 'e'),\n",
       " ('h', 'n', '?'),\n",
       " ('u', 'p', '-'),\n",
       " ('-', 'P', 'o'),\n",
       " ('c', 'h', 'l'),\n",
       " ('d', 'o', 'e'),\n",
       " ('\\n', '\\n', 'Y'),\n",
       " ('n', 'g', '?'),\n",
       " ('i', 'l', '\\n'),\n",
       " ('b', 'o', 'a'),\n",
       " ('y', 's', 'i'),\n",
       " ('n', 'd', '_'),\n",
       " (' ', 'E', 'i'),\n",
       " ('p', 'u', 'f'),\n",
       " (' ', 'o', 'l'),\n",
       " ('y', '?', '\\n'),\n",
       " ('M', 'o', 's'),\n",
       " ('i', 'n', 'l'),\n",
       " ('n', ',', '-'),\n",
       " ('s', '\\n', 'c'),\n",
       " ('e', 'a', '.'),\n",
       " ('s', \"'\", '\\n'),\n",
       " (' ', 'm', 'i'),\n",
       " ('w', ' ', 'u'),\n",
       " ('p', 'e', 'n'),\n",
       " ('r', '-', 'f'),\n",
       " ('r', ')', '-'),\n",
       " ('p', '\\n', 'w'),\n",
       " ('_', '\\n', 'o'),\n",
       " ('l', 'o', 'o'),\n",
       " ('t', 'e', 'm'),\n",
       " ('-', 's', 'h'),\n",
       " (\"'\", ' ', 'p'),\n",
       " ('n', '!', '\\n'),\n",
       " ('s', ' ', 'h'),\n",
       " ('b', 'o', 't'),\n",
       " ('e', 'c', 'i'),\n",
       " ('d', \"'\", 's'),\n",
       " ('_', '.', '-'),\n",
       " ('y', 'w', 'h'),\n",
       " ('r', 'u', 'm'),\n",
       " ('o', 'r', 'n'),\n",
       " ('\\n', 'A', 's'),\n",
       " ('F', 'r', 'e'),\n",
       " ('m', 'e', 'f'),\n",
       " ('f', ' ', 'L'),\n",
       " ('n', 't', '_'),\n",
       " ('!', '\\n', 's'),\n",
       " ('y', '-', 'M'),\n",
       " ('\"', ' ', 'o'),\n",
       " ('E', 'm', 'm'),\n",
       " ('t', 's', '_'),\n",
       " ('B', 'a', 'd'),\n",
       " (' ', ' ', 'K'),\n",
       " ('k', 'm', 'e'),\n",
       " ('-', '\\n', 'F'),\n",
       " ('\\n', 'F', 'o'),\n",
       " ('a', ' ', 'm'),\n",
       " ('m', 'e', '\\n'),\n",
       " (' ', 'B', 'a'),\n",
       " ('t', 'u', 's'),\n",
       " ('-', '\"', 'a'),\n",
       " ('i', 'v', 'e'),\n",
       " ('i', 'x', ' '),\n",
       " ('e', ' ', 'g'),\n",
       " ('\\n', 'f', 'l'),\n",
       " ('l', ' ', 'H'),\n",
       " ('r', 'i', 'l'),\n",
       " ('`', 'P', 'r'),\n",
       " ('Y', '.', '\\n'),\n",
       " ('\\n', 'C', 'H'),\n",
       " ('\\n', 'G', 'o'),\n",
       " ('-', '\"', 'O'),\n",
       " ('y', ' ', 'q'),\n",
       " ('f', ',', ')'),\n",
       " ('\"', 'P', 'a'),\n",
       " ('e', 'u', 'r'),\n",
       " ('k', '\\n', 'o'),\n",
       " ('s', 'a', 's'),\n",
       " ('C', 'h', 'r'),\n",
       " ('i', 's', 'k'),\n",
       " ('s', ' ', 'G'),\n",
       " ('n', \"'\", 's'),\n",
       " ('p', '.', ' '),\n",
       " ('f', '\\n', 'w'),\n",
       " ('r', ')', ','),\n",
       " ('\\n', 'a', 'v'),\n",
       " ('r', 'l', 'e'),\n",
       " (',', '\"', '-'),\n",
       " ('M', 'r', 's'),\n",
       " ('s', 'e', 'd'),\n",
       " ('!', '\\n', 'M'),\n",
       " ('e', 'p', ' '),\n",
       " ('r', 'a', 'y'),\n",
       " ('a', 'p', ' '),\n",
       " ('d', ' ', 'F'),\n",
       " ('n', 'j', 'u'),\n",
       " ('a', 't', 'm'),\n",
       " ('b', '-', 'n'),\n",
       " ('r', 's', 'o'),\n",
       " ('\"', '\\n', 'a'),\n",
       " ('l', '-', 't'),\n",
       " ('n', '\\n', 'f'),\n",
       " ('t', 'u', 'n'),\n",
       " ('.', ')', ' '),\n",
       " ('l', '!', '\\n'),\n",
       " ('f', 'e', 'n'),\n",
       " ('s', '\\n', 'i'),\n",
       " ('g', 'f', 'i'),\n",
       " ('\\n', '\"', '`'),\n",
       " ('M', 'u', 's'),\n",
       " ('.', '\\n', 'E'),\n",
       " ('t', ' ', '\"'),\n",
       " ('-', 'w', 'h'),\n",
       " ('e', 'c', 'd'),\n",
       " ('-', 'y', 'o'),\n",
       " ('l', 'm', 'e'),\n",
       " ('\\n', 'S', 'u'),\n",
       " ('`', 'D', 'o'),\n",
       " ('_', ' ', 'm'),\n",
       " ('t', 'i', 'e'),\n",
       " ('e', ' ', '1'),\n",
       " ('s', 'i', 's'),\n",
       " ('o', 'u', '\\n'),\n",
       " ('(', 'r', 'a'),\n",
       " ('o', 'x', \"'\"),\n",
       " ('i', 'g', 'e'),\n",
       " ('P', 'o', 'v'),\n",
       " ('.', '\\n', 'a'),\n",
       " ('d', '-', 'd'),\n",
       " ('u', ':', ' '),\n",
       " ('r', '-', 'o'),\n",
       " ('v', 'e', 'd'),\n",
       " ('u', 'n', '!'),\n",
       " ('o', 'v', 'o'),\n",
       " ('p', 'e', '!'),\n",
       " (',', ' ', 'M'),\n",
       " ('c', 'k', 's'),\n",
       " ('l', '\\n', 'd'),\n",
       " (' ', 'K', '.'),\n",
       " ('Y', 'o', 'u'),\n",
       " ('P', 'a', 'p'),\n",
       " (' ', '`', 'F'),\n",
       " ('I', 't', 's'),\n",
       " ('k', ' ', 'e'),\n",
       " (' ', '`', 'g'),\n",
       " ('a', 'l', ' '),\n",
       " ('d', '-', 's'),\n",
       " (' ', 'N', 'a'),\n",
       " ('r', 'n', '-'),\n",
       " ('F', 'o', 'u'),\n",
       " ('o', 'r', ' '),\n",
       " (' ', 'm', 'o'),\n",
       " (' ', 'f', 'l'),\n",
       " ('\"', ' ', 'b'),\n",
       " ('y', '!', ' '),\n",
       " (' ', 'o', 'u'),\n",
       " ('r', 'r', 'a'),\n",
       " (' ', ' ', 's'),\n",
       " ('d', ' ', 'E'),\n",
       " ('T', 'i', 'm'),\n",
       " ('n', '-', 'p'),\n",
       " ('-', '`', 'M'),\n",
       " ('r', 'p', 'a'),\n",
       " ('h', '\\n', 'l'),\n",
       " ('n', 'd', 'i'),\n",
       " ('y', ':', '\"'),\n",
       " ('l', 'g', 'a'),\n",
       " (' ', '_', 'j'),\n",
       " ('\\n', '\\n', 'b'),\n",
       " ('a', 'x', ';'),\n",
       " ('r', 'y', 'd'),\n",
       " ('o', ' ', 'C'),\n",
       " ('i', 't', 'c'),\n",
       " ('m', 't', 'h'),\n",
       " ('M', 'Y', ' '),\n",
       " ('X', '\\n', '\\n'),\n",
       " ('_', 'W', 'o'),\n",
       " ('e', 'd', 'l'),\n",
       " ('\\n', 'E', 'm'),\n",
       " ('t', ' ', 'g'),\n",
       " ('\\n', 'i', 'd'),\n",
       " ('l', ' ', 'g'),\n",
       " (')', '\\n', '\"'),\n",
       " ('v', 'i', 'e'),\n",
       " ('t', 'h', 'y'),\n",
       " ('a', 'm', '.'),\n",
       " ('l', '\\n', 'l'),\n",
       " ('m', 'p', 'b'),\n",
       " ('I', ' ', 'g'),\n",
       " ('`', 'N', 'o'),\n",
       " ('e', 'n', 'z'),\n",
       " ('d', 'w', 'r'),\n",
       " ('l', 'a', '.'),\n",
       " ('k', ' ', 'k'),\n",
       " ('p', 'h', 'a'),\n",
       " ('u', 'a', 'i'),\n",
       " ('m', 'o', 's'),\n",
       " ('f', 'e', '\\n'),\n",
       " ('d', 'e', 'e'),\n",
       " (' ', '_', 'm'),\n",
       " ('o', '\\n', 'f'),\n",
       " ('r', '\\n', 'I'),\n",
       " ('m', 'i', 'd'),\n",
       " ('\\n', 'c', 'u'),\n",
       " ('A', 'R', ' '),\n",
       " ('a', 'd', 'm'),\n",
       " ('y', ':', '-'),\n",
       " ('p', 'e', 'c'),\n",
       " ('-', 'D', 'o'),\n",
       " ('i', 'x', '\\n'),\n",
       " ('a', 'c', 'i'),\n",
       " ('r', ' ', 'S'),\n",
       " ('k', 's', ':'),\n",
       " ('g', ' ', 'g'),\n",
       " ('b', 'o', 's'),\n",
       " ('a', 'r', 'c'),\n",
       " ('k', 's', '!'),\n",
       " (':', ' ', ' '),\n",
       " ('r', 'y', ':'),\n",
       " ('o', 'u', 'p'),\n",
       " ('r', 'y', '!'),\n",
       " ('S', 'o', ' '),\n",
       " ('m', '\\n', 'c'),\n",
       " ('e', '.', '-'),\n",
       " ('`', 'D', 'e'),\n",
       " ('d', '-', 'a'),\n",
       " ('u', '.', '\"'),\n",
       " ('d', 'y', '-'),\n",
       " ('\\n', '\"', 'A'),\n",
       " ('w', '\\n', 'e'),\n",
       " ('s', 'e', ','),\n",
       " ('h', 't', 'i'),\n",
       " ('w', 'p', 'e'),\n",
       " ('f', '-', 'h'),\n",
       " ('a', \"'\", 'a'),\n",
       " ('b', 'b', 'o'),\n",
       " ('e', '!', '\"'),\n",
       " ('e', 'i', 'g'),\n",
       " (' ', 'T', 'h'),\n",
       " ('s', 'a', 't'),\n",
       " ('e', 's', 'k'),\n",
       " ('I', 'n', 'v'),\n",
       " ('g', 'y', '.'),\n",
       " ('-', 'a', 'p'),\n",
       " ('C', 'o', 'm'),\n",
       " ('\\n', '_', 'H'),\n",
       " ('A', ' ', 'n'),\n",
       " ('o', 'w', ';'),\n",
       " ('a', 'r', '_'),\n",
       " ('\\n', 'e', 'a'),\n",
       " (' ', 'P', 'u'),\n",
       " ('y', 'e', 't'),\n",
       " ('a', ' ', 'o'),\n",
       " ('s', 'h', 'a'),\n",
       " ('i', 'p', 't'),\n",
       " ('r', ';', '-'),\n",
       " ('r', 'a', 'n'),\n",
       " ('e', 'm', 'b'),\n",
       " ('n', 'e', \"'\"),\n",
       " (' ', 'J', 'e'),\n",
       " ('e', 'r', 'o'),\n",
       " ('s', 'h', '.'),\n",
       " ('m', '\\n', 's'),\n",
       " ('\\n', 'a', 'n'),\n",
       " ('t', 's', '.'),\n",
       " ('\\n', 'W', 'o'),\n",
       " ('o', 'l', 'r'),\n",
       " ('h', '\\n', 'i'),\n",
       " ('t', ' ', 'b'),\n",
       " ('h', ' ', 'h'),\n",
       " ('\\n', 'e', 'l'),\n",
       " ('r', 'a', 'p'),\n",
       " (')', ' ', '\"'),\n",
       " ('w', ' ', 'd'),\n",
       " ('-', 'a', 'd'),\n",
       " ('t', '\\n', 'H'),\n",
       " ('r', 'y', 's'),\n",
       " (' ', '(', 'I'),\n",
       " ('P', 'r', 'i'),\n",
       " ('y', \"'\", 's'),\n",
       " ('y', ' ', 'e'),\n",
       " ('o', 'c', 'a'),\n",
       " ('\"', 'p', 'e'),\n",
       " ('g', 'e', 'a'),\n",
       " ('M', 'A', 'D'),\n",
       " ('i', 'm', 'o'),\n",
       " ('e', 'r', '?'),\n",
       " (' ', 'g', 'i'),\n",
       " ('a', 's', '_'),\n",
       " ('n', 'o', '.'),\n",
       " ('m', 'a', '!'),\n",
       " ('f', 'f', '-'),\n",
       " ('m', 'a', ':'),\n",
       " ('r', 'k', '.'),\n",
       " ('s', 'p', 'o'),\n",
       " ('o', 'm', ';'),\n",
       " ('-', ',', ' '),\n",
       " ('\\n', 'Q', 'u'),\n",
       " ('l', 't', ','),\n",
       " ('h', 'l', 'y'),\n",
       " ('R', 'e', 'f'),\n",
       " ('\"', '\\n', 'r'),\n",
       " ('h', '!', '-'),\n",
       " ('t', '\\n', '('),\n",
       " ('t', '\\n', 'A'),\n",
       " ('p', 'e', 'd'),\n",
       " ('\\n', '\\n', 'L'),\n",
       " ('r', 'i', 'v'),\n",
       " ('r', 'o', 'm'),\n",
       " ('e', '\"', '-'),\n",
       " ('f', ' ', 'h'),\n",
       " (' ', 't', 'w'),\n",
       " ('-', 'A', 'n'),\n",
       " ('Y', 'e', 't'),\n",
       " ('d', 'u', 'b'),\n",
       " ('-', '\\n', 'd'),\n",
       " ('e', 'i', 's'),\n",
       " ('D', 'r', '.'),\n",
       " ('R', 'o', 'b'),\n",
       " ('o', 'u', ':'),\n",
       " ('d', ' ', 'D'),\n",
       " (\"'\", ' ', 'u'),\n",
       " ('o', ' ', 'm'),\n",
       " ('?', '\"', ' '),\n",
       " ('W', 'h', 'a'),\n",
       " ('\\n', 't', 'i'),\n",
       " ('d', 'e', 't'),\n",
       " ('n', 'e', 'f'),\n",
       " ('t', ')', '.'),\n",
       " ('d', 's', ','),\n",
       " (' ', 'Q', 'u'),\n",
       " ('m', 'n', ' '),\n",
       " ('n', 'e', 'r'),\n",
       " (';', ' ', 'w'),\n",
       " ('\"', 's', 'o'),\n",
       " ('d', '\\n', 'e'),\n",
       " ('f', \"'\", '-'),\n",
       " ('h', '!', '\"'),\n",
       " ('o', 'w', '-'),\n",
       " (' ', 'c', 'u'),\n",
       " ('h', ':', ' '),\n",
       " (' ', '7', 't'),\n",
       " ('\"', 'R', 'o'),\n",
       " ('y', '\\n', 'd'),\n",
       " ('o', 'c', 'c'),\n",
       " ('\"', 'G', 'o'),\n",
       " ('s', 'o', '\"'),\n",
       " ('g', 'e', 'n'),\n",
       " ('n', ' ', 't'),\n",
       " ('l', 't', 'h'),\n",
       " ('i', 't', 'h'),\n",
       " ('i', 'k', 'i'),\n",
       " ('-', 'D', 'e'),\n",
       " ('l', 'e', ';'),\n",
       " ('`', 'w', 'h'),\n",
       " ('O', 'r', ','),\n",
       " ('n', 'k', ','),\n",
       " (';', ' ', 'm'),\n",
       " (' ', 'p', 'e'),\n",
       " ('c', 'e', 'l'),\n",
       " ('h', 'i', 'l'),\n",
       " ('l', 'k', ','),\n",
       " ('g', 'i', 'v'),\n",
       " (' ', 's', 'y'),\n",
       " ('s', '\\n', 'u'),\n",
       " ('t', 'e', 'x'),\n",
       " ('h', 'i', 'p'),\n",
       " ('e', '\\n', 'S'),\n",
       " ('u', 'n', ' '),\n",
       " ('t', 'o', 'b'),\n",
       " ('-', 'u', 'r'),\n",
       " ('l', '-', 'g'),\n",
       " ('s', 'o', 'u'),\n",
       " ('-', 'P', 'i'),\n",
       " (' ', ' ', 'C'),\n",
       " ('s', 'w', 'a'),\n",
       " ('h', 'o', 'l'),\n",
       " ('o', 'w', '!'),\n",
       " ('u', 'a', 'b'),\n",
       " ('d', ':', '\\n'),\n",
       " ('`', 'W', 'o'),\n",
       " ('i', 'm', 'e'),\n",
       " ('n', 't', '?'),\n",
       " ('a', 'u', ';'),\n",
       " ('G', 'o', 'l'),\n",
       " ('e', 'l', 'b'),\n",
       " ('a', 'u', 'g'),\n",
       " ('a', 'l', 'r'),\n",
       " ('n', 'i', 'c'),\n",
       " ('n', 't', 'n'),\n",
       " ('f', '!', '\\n'),\n",
       " ('!', ' ', 'b'),\n",
       " ('\\n', 'r', 'e'),\n",
       " ('r', 'd', ' '),\n",
       " ('f', 'y', ' '),\n",
       " ('g', 'g', 'r'),\n",
       " ('a', 'y', '-'),\n",
       " ('y', \"'\", '\\n'),\n",
       " ('p', 'p', 'y'),\n",
       " ('e', '_', ','),\n",
       " ('i', 'f', 'u'),\n",
       " ('w', 's', '!'),\n",
       " ('w', 's', ':'),\n",
       " ('c', 't', '?'),\n",
       " ('W', 'i', 's'),\n",
       " ('t', 'a', 't'),\n",
       " ('\\n', 'S', 'o'),\n",
       " ('\"', 'B', 'r'),\n",
       " ('s', 'g', 'u'),\n",
       " ('n', 'a', 'h'),\n",
       " ('i', 'r', 't'),\n",
       " ('s', 's', 'o'),\n",
       " ('n', 'f', 'o'),\n",
       " ('n', 'y', ','),\n",
       " ('m', 'y', 's'),\n",
       " ('e', '\\n', '\"'),\n",
       " ('s', 'e', 'y'),\n",
       " ('u', 'c', 'e'),\n",
       " ('t', ' ', 'f'),\n",
       " ('d', 'i', 'v'),\n",
       " (' ', '_', 'd'),\n",
       " ('g', 's', 't'),\n",
       " ('n', 'r', 'o'),\n",
       " ('m', ' ', 'p'),\n",
       " ('h', 'm', 'o'),\n",
       " ('\\n', '\"', 'O'),\n",
       " ('b', ' ', '_'),\n",
       " ('i', 'l', 'u'),\n",
       " ('o', 'r', 'y'),\n",
       " ('!', '\\n', 'O'),\n",
       " ('n', 'g', \"'\"),\n",
       " ('\"', 'd', 'o'),\n",
       " ('s', '-', 'W'),\n",
       " ('s', 'i', 'r'),\n",
       " ('-', 'v', 'e'),\n",
       " (' ', 'R', 'e'),\n",
       " (' ', 'K', 'n'),\n",
       " ('e', '-', 'g'),\n",
       " (' ', 'v', 'o'),\n",
       " ...}"
      ]
     },
     "execution_count": 5,
     "metadata": {},
     "output_type": "execute_result"
    }
   ],
   "source": [
    "k_shingles(emma, 3)"
   ]
  },
  {
   "cell_type": "markdown",
   "metadata": {},
   "source": [
    "The following code can be used to compute the jaccard similarity between two sets."
   ]
  },
  {
   "cell_type": "code",
   "execution_count": 6,
   "metadata": {
    "collapsed": true
   },
   "outputs": [],
   "source": [
    "def jaccard(set1, set2):\n",
    "    return len(set1 & set2)/(len(set1 | set2))"
   ]
  },
  {
   "cell_type": "markdown",
   "metadata": {},
   "source": [
    "And this code shows how to compute the jaccard similarity between the sets of 3-shingles of two documents in the Gutenberg corpus."
   ]
  },
  {
   "cell_type": "code",
   "execution_count": 42,
   "metadata": {},
   "outputs": [
    {
     "data": {
      "text/plain": [
       "0.6289907557419232"
      ]
     },
     "execution_count": 42,
     "metadata": {},
     "output_type": "execute_result"
    }
   ],
   "source": [
    "k3_shingle_emma = k_shingles(emma, 3)\n",
    "persuasion = gutenberg.raw('austen-persuasion.txt')\n",
    "k3_shingle_persuasion = k_shingles(persuasion, 3)\n",
    "jaccard(k3_shingle_emma, k3_shingle_persuasion)"
   ]
  },
  {
   "cell_type": "markdown",
   "metadata": {},
   "source": [
    "### Exercise: \n",
    "\n",
    "Fill the following table with the pairwise Jaccard similarities of the first 4 documents of the Gutenberg set. To compute the Jaccard similarities, use their 4-shingle representations. What are the two most similar documents?\n",
    "\n",
    "|  | austen-emma | austen-persuasion | austen-sense | bible-kjv |\n",
    "| --- | --- | --- | --- | --- |\n",
    "| **austen-emma** | | | | |\n",
    "| **austen-persuasion** | | | | |\n",
    "| **austen-sense** | | | | |\n",
    "| **bible-kjv** | | | | |"
   ]
  },
  {
   "cell_type": "code",
   "execution_count": 43,
   "metadata": {},
   "outputs": [
    {
     "data": {
      "text/plain": [
       "[0.5084629730176341,\n",
       " 0.5404567113188888,\n",
       " 0.3205902079141516,\n",
       " 0.5268190417753235,\n",
       " 0.3050775181992629,\n",
       " 0.31610233696602363]"
      ]
     },
     "execution_count": 43,
     "metadata": {},
     "output_type": "execute_result"
    }
   ],
   "source": [
    "import pandas as pd\n",
    "\n",
    "sense = gutenberg.raw('austen-sense.txt')\n",
    "kjv = gutenberg.raw('bible-kjv.txt')\n",
    "\n",
    "k4_shingle_emma = k_shingles(emma, 4)\n",
    "k4_shingle_persuasion = k_shingles(persuasion, 4)\n",
    "k4_shingle_sense = k_shingles(sense, 4)\n",
    "k4_shingle_kjv = k_shingles(kjv, 4)\n",
    "\n",
    "J4 = [jaccard(k4_shingle_emma, k4_shingle_persuasion), jaccard(k4_shingle_emma, k4_shingle_sense), jaccard(k4_shingle_emma, k4_shingle_kjv), jaccard(k4_shingle_persuasion, k4_shingle_sense), jaccard(k4_shingle_persuasion, k4_shingle_kjv), jaccard(k4_shingle_sense, k4_shingle_kjv)]\n",
    "J4"
   ]
  },
  {
   "cell_type": "code",
   "execution_count": 44,
   "metadata": {},
   "outputs": [
    {
     "name": "stdout",
     "output_type": "stream",
     "text": [
      "1.0 0.2 0.25 0.047619047619047616 \n",
      "0.2 1.0 0.19230769230769232 0.037037037037037035 \n",
      "0.25 0.19230769230769232 1.0 0.045454545454545456 \n",
      "0.047619047619047616 0.037037037037037035 0.045454545454545456 1.0 \n"
     ]
    }
   ],
   "source": [
    "#OR\n",
    "\n",
    "for f1 in gutenberg.fileids()[:4]:\n",
    "    text1 = gutenberg.raw(f1)\n",
    "    k_shingle1 = k_shingles(f1, 4)\n",
    "    for f2 in gutenberg.fileids()[:4]:\n",
    "        text2 = gutenberg.raw(f2)\n",
    "        k_shingle2 = k_shingles(f2, 4)\n",
    "        print(jaccard(k_shingle1, k_shingle2), end = ' ')\n",
    "    print()"
   ]
  },
  {
   "cell_type": "markdown",
   "metadata": {},
   "source": [
    "Repeat the exercise, but now using their 9-shingle representations. Comment on the results. What happened and why?\n",
    "\n",
    "|  | austen-emma | austen-persuasion | austen-sense | bible-kjv |\n",
    "| --- | --- | --- | --- | --- |\n",
    "| **austen-emma** | | | | |\n",
    "| **austen-persuasion** | | | | |\n",
    "| **austen-sense** | | | | |\n",
    "| **bible-kjv** | | | | |"
   ]
  },
  {
   "cell_type": "code",
   "execution_count": 31,
   "metadata": {},
   "outputs": [
    {
     "data": {
      "text/plain": [
       "[0.13437537219844045,\n",
       " 0.14630801397906137,\n",
       " 0.05493864474728061,\n",
       " 0.13504128541302277,\n",
       " 0.04343211027181419,\n",
       " 0.051760587717499404]"
      ]
     },
     "execution_count": 31,
     "metadata": {},
     "output_type": "execute_result"
    }
   ],
   "source": [
    "k9_shingle_emma = k_shingles(emma, 9)\n",
    "k9_shingle_persuasion = k_shingles(persuasion, 9)\n",
    "k9_shingle_sense = k_shingles(sense, 9)\n",
    "k9_shingle_kjv = k_shingles(kjv, 9)\n",
    "\n",
    "J9 =  [jaccard(k9_shingle_emma, k9_shingle_persuasion), jaccard(k9_shingle_emma, k9_shingle_sense), jaccard(k9_shingle_emma, k9_shingle_kjv), jaccard(k9_shingle_persuasion, k9_shingle_sense), jaccard(k9_shingle_persuasion, k9_shingle_kjv), jaccard(k9_shingle_sense, k9_shingle_kjv)]\n",
    "J9"
   ]
  },
  {
   "cell_type": "code",
   "execution_count": 41,
   "metadata": {},
   "outputs": [
    {
     "name": "stdout",
     "output_type": "stream",
     "text": [
      "1.0 0.0 0.0 0.0 \n",
      "0.0 1.0 0.0 0.0 \n",
      "0.0 0.0 1.0 0.0 \n",
      "0.0 0.0 0.0 1.0 \n"
     ]
    }
   ],
   "source": [
    "#OR\n",
    "\n",
    "for f1 in gutenberg.fileids()[:4]:\n",
    "    text1 = gutenberg.raw(f1)\n",
    "    k_shingle1 = k_shingles(f1, 9)\n",
    "    for f2 in gutenberg.fileids()[:4]:\n",
    "        text2 = gutenberg.raw(f2)\n",
    "        k_shingle2 = k_shingles(f2, 9)\n",
    "        print(jaccard(k_shingle1, k_shingle2), end = ' ')\n",
    "    print()"
   ]
  },
  {
   "cell_type": "markdown",
   "metadata": {
    "collapsed": true
   },
   "source": [
    "### Exercise:\n",
    "\n",
    "The following code uses Python's hash() function to define our hash function that maps a shingle to a number within a specific range of values."
   ]
  },
  {
   "cell_type": "code",
   "execution_count": 32,
   "metadata": {
    "collapsed": true
   },
   "outputs": [],
   "source": [
    "def my_hash(item, target_range):\n",
    "    return hash(item) % target_range"
   ]
  },
  {
   "cell_type": "markdown",
   "metadata": {},
   "source": [
    "This code illustrates how to use `my_hash`. When you run the cell below you will probably notice a different hash number, but if you run the cell several times in the same python session the number will not change. This is because Python's implementation of hash() does not guarantee the same number in different runs of Python."
   ]
  },
  {
   "cell_type": "code",
   "execution_count": 34,
   "metadata": {},
   "outputs": [
    {
     "data": {
      "text/plain": [
       "2566350452"
      ]
     },
     "execution_count": 34,
     "metadata": {},
     "output_type": "execute_result"
    }
   ],
   "source": [
    "my_hash(('a','b','c'), 2**32)"
   ]
  },
  {
   "cell_type": "markdown",
   "metadata": {},
   "source": [
    "The code below uses the hash function to build the k_shingles of a document. It takes as a parameter the text, the value of k, the hash function, and the range of the hash function."
   ]
  },
  {
   "cell_type": "code",
   "execution_count": 35,
   "metadata": {
    "collapsed": true
   },
   "outputs": [],
   "source": [
    "def k_hash_shingles(text, k, hash_function, target_range):\n",
    "    return set(hash_function(item, target_range) \n",
    "               for item in nltk.ngrams(text, k))"
   ]
  },
  {
   "cell_type": "code",
   "execution_count": 36,
   "metadata": {},
   "outputs": [
    {
     "data": {
      "text/plain": [
       "0.6289907557419232"
      ]
     },
     "execution_count": 36,
     "metadata": {},
     "output_type": "execute_result"
    }
   ],
   "source": [
    "k3_hash_shingle_emma = k_hash_shingles(emma, 3, my_hash, 2**32)\n",
    "k3_hash_shingle_persuasion = k_hash_shingles(persuasion, 3, my_hash, 2**32)\n",
    "jaccard(k3_hash_shingle_emma, k3_hash_shingle_persuasion)"
   ]
  },
  {
   "cell_type": "markdown",
   "metadata": {},
   "source": [
    "Using the hash function, represent the first five documents in the Gutenberg corpus as 4-shingles hashed to a range between $0$ and $2^{10}-1$, compute all pairwise jaccard similarities and determine the two documents that are most similar.\n",
    "\n",
    "1. What are the differences in the results with those of the previous exercise?\n",
    "2. What are the differences sizes between the 4-shingles and the hashed versions?"
   ]
  },
  {
   "cell_type": "code",
   "execution_count": 45,
   "metadata": {},
   "outputs": [
    {
     "name": "stdout",
     "output_type": "stream",
     "text": [
      "1.0 0.2 0.25 0.047619047619047616 0.043478260869565216 \n",
      "0.2 1.0 0.19230769230769232 0.037037037037037035 0.034482758620689655 \n",
      "0.25 0.19230769230769232 1.0 0.045454545454545456 0.041666666666666664 \n",
      "0.047619047619047616 0.037037037037037035 0.045454545454545456 1.0 0.047619047619047616 \n",
      "0.043478260869565216 0.034482758620689655 0.041666666666666664 0.047619047619047616 1.0 \n"
     ]
    }
   ],
   "source": [
    "\n",
    "for f1 in gutenberg.fileids()[:5]:\n",
    "    text1 = gutenberg.raw(f1)\n",
    "    k_shingle1 = k_hash_shingles(f1, 4, my_hash, 2**32)\n",
    "    for f2 in gutenberg.fileids()[:5]:\n",
    "        text2 = gutenberg.raw(f2)\n",
    "        k_shingle2 = k_hash_shingles(f2, 4, my_hash, 2**32)\n",
    "        print(jaccard(k_shingle1, k_shingle2), end = ' ')\n",
    "    print()\n",
    "    \n"
   ]
  },
  {
   "cell_type": "markdown",
   "metadata": {},
   "source": [
    "## Minhashing"
   ]
  },
  {
   "cell_type": "markdown",
   "metadata": {},
   "source": [
    "The following code implements a family of different hash functions depending the hash_index."
   ]
  },
  {
   "cell_type": "code",
   "execution_count": 46,
   "metadata": {
    "collapsed": true
   },
   "outputs": [],
   "source": [
    "def permute_hash(item, hash_index, target_range):\n",
    "    return (hash(item) * (hash_index+1) + 1) % target_range"
   ]
  },
  {
   "cell_type": "markdown",
   "metadata": {},
   "source": [
    "For example, here are the hash values of two strings for 10 different values of hash_index."
   ]
  },
  {
   "cell_type": "code",
   "execution_count": 47,
   "metadata": {},
   "outputs": [
    {
     "name": "stdout",
     "output_type": "stream",
     "text": [
      "2479899107 3397396194\n",
      "664830917 2499825091\n",
      "3144730023 1602253988\n",
      "1329661833 704682885\n",
      "3809560939 4102079078\n",
      "1994492749 3204507975\n",
      "179424559 2306936872\n",
      "2659323665 1409365769\n",
      "844255475 511794666\n",
      "3324154581 3909190859\n"
     ]
    }
   ],
   "source": [
    "for i in range(10):\n",
    "    print(permute_hash('a', i, 2**32), permute_hash('b', i, 2**32))"
   ]
  },
  {
   "cell_type": "markdown",
   "metadata": {},
   "source": [
    "The code below builds the signature matrix of the minhash of a list of k-shingles, where we can customize the permute hash function, the number of rows in the final signature matrix, and the target range of the permute hash function."
   ]
  },
  {
   "cell_type": "code",
   "execution_count": 14,
   "metadata": {
    "collapsed": true
   },
   "outputs": [],
   "source": [
    "import numpy as np\n",
    "def minhash(kshingles,\n",
    "            permute_hash_function, signature_rows,\n",
    "            target_range,\n",
    "            verbose=False):\n",
    "    sig = np.ones((signature_rows, len(kshingles))) * np.inf\n",
    "    for r in range(target_range):\n",
    "        for c, ks in enumerate(kshingles):\n",
    "            if r not in ks:\n",
    "                continue\n",
    "            for i in range(signature_rows):\n",
    "                sig[i, c] = min(sig[i,c], \n",
    "                                permute_hash_function(r, i, target_range))\n",
    "        if verbose:\n",
    "            print(\"After scanning row %i\" % r)\n",
    "            print(\"Signature matrix:\")\n",
    "            print(sig)\n",
    "    return sig"
   ]
  },
  {
   "cell_type": "markdown",
   "metadata": {},
   "source": [
    "Below we can see some code that builds the signature matrix that we have covered in the lectures."
   ]
  },
  {
   "cell_type": "code",
   "execution_count": 15,
   "metadata": {
    "collapsed": true
   },
   "outputs": [],
   "source": [
    "def simple_permute_hash(x, index, target_range):\n",
    "    if index == 0:\n",
    "        return (x + 1) % target_range\n",
    "    else:\n",
    "        return (3*x + 1) % target_range"
   ]
  },
  {
   "cell_type": "code",
   "execution_count": 16,
   "metadata": {},
   "outputs": [
    {
     "name": "stdout",
     "output_type": "stream",
     "text": [
      "After scanning row 0\n",
      "Signature matrix:\n",
      "[[  1.  inf  inf   1.]\n",
      " [  1.  inf  inf   1.]]\n",
      "After scanning row 1\n",
      "Signature matrix:\n",
      "[[  1.  inf   2.   1.]\n",
      " [  1.  inf   4.   1.]]\n",
      "After scanning row 2\n",
      "Signature matrix:\n",
      "[[ 1.  3.  2.  1.]\n",
      " [ 1.  2.  4.  1.]]\n",
      "After scanning row 3\n",
      "Signature matrix:\n",
      "[[ 1.  3.  2.  1.]\n",
      " [ 0.  2.  0.  0.]]\n",
      "After scanning row 4\n",
      "Signature matrix:\n",
      "[[ 1.  3.  0.  1.]\n",
      " [ 0.  2.  0.  0.]]\n"
     ]
    },
    {
     "data": {
      "text/plain": [
       "array([[ 1.,  3.,  0.,  1.],\n",
       "       [ 0.,  2.,  0.,  0.]])"
      ]
     },
     "execution_count": 16,
     "metadata": {},
     "output_type": "execute_result"
    }
   ],
   "source": [
    "kshingles = [{0, 3}, {2}, {1, 3, 4}, {0, 2, 3}]\n",
    "minhash(kshingles, simple_permute_hash, 2, 5, verbose=True)"
   ]
  },
  {
   "cell_type": "markdown",
   "metadata": {},
   "source": [
    "And below are different signature matrices resulting from different target ranges of the permute hash function using the first 5 documents of the NLTK Gutenberg corpus."
   ]
  },
  {
   "cell_type": "code",
   "execution_count": 17,
   "metadata": {},
   "outputs": [
    {
     "name": "stdout",
     "output_type": "stream",
     "text": [
      "Obtaining initial shingles\n",
      "Computing minhash\n"
     ]
    },
    {
     "data": {
      "text/plain": [
       "array([[ 0.,  0.,  0.,  0.,  0.],\n",
       "       [ 1.,  1.,  1.,  1.,  1.],\n",
       "       [ 0.,  0.,  0.,  0.,  0.],\n",
       "       [ 1.,  1.,  1.,  1.,  1.],\n",
       "       [ 0.,  0.,  0.,  0.,  0.]])"
      ]
     },
     "execution_count": 17,
     "metadata": {},
     "output_type": "execute_result"
    }
   ],
   "source": [
    "print(\"Obtaining initial shingles\")\n",
    "target_range = 32\n",
    "k=4\n",
    "kshingles = [k_hash_shingles(gutenberg.raw(f), k, \n",
    "                            my_hash,\n",
    "                            target_range) \n",
    "             for f in gutenberg.fileids()[:5]]\n",
    "print(\"Computing minhash\")\n",
    "minhash(kshingles, permute_hash, 5, target_range)"
   ]
  },
  {
   "cell_type": "code",
   "execution_count": 18,
   "metadata": {},
   "outputs": [
    {
     "name": "stdout",
     "output_type": "stream",
     "text": [
      "Obtaining initial shingles\n",
      "Computing minhash\n"
     ]
    },
    {
     "data": {
      "text/plain": [
       "array([[ 0.,  0.,  0.,  0.,  0.],\n",
       "       [ 1.,  1.,  1.,  1.,  1.],\n",
       "       [ 0.,  0.,  0.,  0.,  0.],\n",
       "       [ 1.,  1.,  1.,  1.,  1.],\n",
       "       [ 1.,  1.,  1.,  1.,  1.]])"
      ]
     },
     "execution_count": 18,
     "metadata": {},
     "output_type": "execute_result"
    }
   ],
   "source": [
    "print(\"Obtaining initial shingles\")\n",
    "target_range = 3200\n",
    "k=4\n",
    "kshingles = [k_hash_shingles(gutenberg.raw(f), k, \n",
    "                            my_hash,\n",
    "                            target_range) \n",
    "             for f in gutenberg.fileids()[:5]]\n",
    "print(\"Computing minhash\")\n",
    "minhash(kshingles, permute_hash, 5, target_range)"
   ]
  },
  {
   "cell_type": "code",
   "execution_count": 19,
   "metadata": {},
   "outputs": [
    {
     "name": "stdout",
     "output_type": "stream",
     "text": [
      "Obtaining initial shingles\n",
      "Computing minhash\n"
     ]
    },
    {
     "data": {
      "text/plain": [
       "array([[  3.,   3.,   1.,   2.,  24.],\n",
       "       [  5.,   5.,   1.,   3.,  11.],\n",
       "       [  7.,   7.,   1.,   4.,  27.],\n",
       "       [  9.,   9.,   1.,   5.,  21.],\n",
       "       [  1.,  11.,   1.,   1.,  46.]])"
      ]
     },
     "execution_count": 19,
     "metadata": {},
     "output_type": "execute_result"
    }
   ],
   "source": [
    "print(\"Obtaining initial shingles\")\n",
    "target_range = 320000\n",
    "k=4\n",
    "kshingles = [k_hash_shingles(gutenberg.raw(f), k,\n",
    "                            my_hash,\n",
    "                            target_range) \n",
    "             for f in gutenberg.fileids()[:5]]\n",
    "print(\"Computing minhash\")\n",
    "minhash(kshingles, permute_hash, 5, target_range)"
   ]
  },
  {
   "cell_type": "code",
   "execution_count": 20,
   "metadata": {},
   "outputs": [
    {
     "name": "stdout",
     "output_type": "stream",
     "text": [
      "Obtaining initial shingles\n",
      "Computing minhash\n"
     ]
    },
    {
     "data": {
      "text/plain": [
       "array([[ 2198.,  2198.,   180.,   180.,  3477.],\n",
       "       [   25.,  4395.,   359.,    25.,  6953.],\n",
       "       [  561.,   561.,   538.,   189.,   561.],\n",
       "       [   49.,  2765.,   717.,    49.,  6505.],\n",
       "       [  511.,   511.,   896.,   896.,  5156.]])"
      ]
     },
     "execution_count": 20,
     "metadata": {},
     "output_type": "execute_result"
    }
   ],
   "source": [
    "print(\"Obtaining initial shingles\")\n",
    "target_range = 32000000\n",
    "k=4\n",
    "kshingles = [k_hash_shingles(gutenberg.raw(f), k, \n",
    "                            my_hash,\n",
    "                            target_range) \n",
    "             for f in gutenberg.fileids()[:5]]\n",
    "print(\"Computing minhash\")\n",
    "minhash(kshingles, permute_hash, 5, target_range)"
   ]
  },
  {
   "cell_type": "markdown",
   "metadata": {},
   "source": [
    "### Exercise:\n",
    "\n",
    "Given the following artificially constructed list of sets, compute the pairwise Jaccard similarities."
   ]
  },
  {
   "cell_type": "code",
   "execution_count": null,
   "metadata": {
    "collapsed": true
   },
   "outputs": [],
   "source": []
  },
  {
   "cell_type": "markdown",
   "metadata": {},
   "source": [
    "Now, compute the pairwise Jaccard similarities after calculating the signature matrix using the following code. Compare the results."
   ]
  },
  {
   "cell_type": "code",
   "execution_count": 21,
   "metadata": {},
   "outputs": [
    {
     "data": {
      "text/plain": [
       "array([[ 1.,  3.,  0.,  1.],\n",
       "       [ 0.,  2.,  0.,  0.]])"
      ]
     },
     "execution_count": 21,
     "metadata": {},
     "output_type": "execute_result"
    }
   ],
   "source": [
    "def simple_permute_hash(x, index, target_range):\n",
    "    if index == 0:\n",
    "        return (x + 1) % target_range\n",
    "    else:\n",
    "        return (3*x + 1) % target_range\n",
    "kshingles = [{0, 3}, {2}, {1, 3, 4}, {0, 2, 3}]\n",
    "sig = minhash(kshingles, simple_permute_hash, 2, 5)\n",
    "sig"
   ]
  },
  {
   "cell_type": "code",
   "execution_count": null,
   "metadata": {
    "collapsed": true
   },
   "outputs": [],
   "source": []
  },
  {
   "cell_type": "markdown",
   "metadata": {},
   "source": [
    "You will observe that the results are different. Repeat the exercise, now using the first 5 documents of the Gutenberg corpus. What would be a reasonable number of rows of the signature matrix, and a reasonable target range of the hash function, so that the results are fairly accurate and yet the size of the signature matrix is not too large?"
   ]
  },
  {
   "cell_type": "code",
   "execution_count": null,
   "metadata": {
    "collapsed": true
   },
   "outputs": [],
   "source": []
  },
  {
   "cell_type": "markdown",
   "metadata": {
    "collapsed": true
   },
   "source": [
    "## MapReduce\n",
    "\n",
    "As an optional exercise, write and execute MapReduce code that could be used to find the pairs of documents with jaccard similarity above a given threshold $t$."
   ]
  },
  {
   "cell_type": "code",
   "execution_count": null,
   "metadata": {
    "collapsed": true
   },
   "outputs": [],
   "source": []
  }
 ],
 "metadata": {
  "anaconda-cloud": {},
  "kernelspec": {
   "display_name": "Python 3",
   "language": "python",
   "name": "python3"
  },
  "language_info": {
   "codemirror_mode": {
    "name": "ipython",
    "version": 3
   },
   "file_extension": ".py",
   "mimetype": "text/x-python",
   "name": "python",
   "nbconvert_exporter": "python",
   "pygments_lexer": "ipython3",
   "version": "3.6.1"
  }
 },
 "nbformat": 4,
 "nbformat_minor": 1
}
